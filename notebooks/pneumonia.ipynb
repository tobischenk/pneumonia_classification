{
 "nbformat": 4,
 "nbformat_minor": 0,
 "metadata": {
  "colab": {
   "name": "pneumonia.ipynb",
   "provenance": [],
   "collapsed_sections": [],
   "machine_shape": "hm",
   "authorship_tag": "ABX9TyOknTySECDgMDhNkwS1CJQH"
  },
  "kernelspec": {
   "name": "python3",
   "display_name": "Python 3"
  },
  "language_info": {
   "name": "python"
  },
  "accelerator": "GPU",
  "gpuClass": "standard"
 },
 "cells": [
  {
   "cell_type": "code",
   "source": [
    "!pip install pyyaml h5py"
   ],
   "metadata": {
    "colab": {
     "base_uri": "https://localhost:8080/"
    },
    "id": "4HFEtz6Zis8C",
    "executionInfo": {
     "status": "ok",
     "timestamp": 1658168469586,
     "user_tz": -120,
     "elapsed": 4311,
     "user": {
      "displayName": "Tobias Schenk",
      "userId": "07937592775366395306"
     }
    },
    "outputId": "ed5e9f16-add1-40c2-acd1-4cb00f09c65e",
    "pycharm": {
     "name": "#%%\n"
    }
   },
   "execution_count": null,
   "outputs": [
    {
     "output_type": "stream",
     "name": "stdout",
     "text": [
      "Looking in indexes: https://pypi.org/simple, https://us-python.pkg.dev/colab-wheels/public/simple/\n",
      "Requirement already satisfied: pyyaml in /usr/local/lib/python3.7/dist-packages (3.13)\n",
      "Requirement already satisfied: h5py in /usr/local/lib/python3.7/dist-packages (3.1.0)\n",
      "Requirement already satisfied: cached-property in /usr/local/lib/python3.7/dist-packages (from h5py) (1.5.2)\n",
      "Requirement already satisfied: numpy>=1.14.5 in /usr/local/lib/python3.7/dist-packages (from h5py) (1.21.6)\n"
     ]
    }
   ]
  },
  {
   "cell_type": "code",
   "source": [
    "import numpy as np\n",
    "import cv2\n",
    "import matplotlib.pyplot as plt\n",
    "import random\n",
    "import os\n",
    "import tensorflow as tf"
   ],
   "metadata": {
    "id": "t_8N7hfkPLOQ",
    "pycharm": {
     "name": "#%%\n"
    }
   },
   "execution_count": null,
   "outputs": []
  },
  {
   "cell_type": "code",
   "source": [
    "from google.colab import drive\n",
    "drive.mount('/content/drive', force_remount=True)"
   ],
   "metadata": {
    "colab": {
     "base_uri": "https://localhost:8080/"
    },
    "id": "4GYCPG_tPR-5",
    "executionInfo": {
     "status": "ok",
     "timestamp": 1658189159234,
     "user_tz": -120,
     "elapsed": 14142,
     "user": {
      "displayName": "Tobias Schenk",
      "userId": "07937592775366395306"
     }
    },
    "outputId": "5a0d382d-5c88-463b-8dc4-7c3a9bbb5c3d",
    "pycharm": {
     "name": "#%%\n"
    }
   },
   "execution_count": null,
   "outputs": [
    {
     "output_type": "stream",
     "name": "stdout",
     "text": [
      "Mounted at /content/drive\n"
     ]
    }
   ]
  },
  {
   "cell_type": "code",
   "source": [
    "LABELS = ['NORMAL', 'PNEUMONIA']\n",
    "IMG_SIZE = 150\n",
    "IMG_SIZE_TUPLE = (IMG_SIZE, IMG_SIZE)\n",
    "BATCH_SIZE = 32\n",
    "\n",
    "# Adjust Paths when using with a different Data Source or google Account\n",
    "TRAIN_PATH = \"/content/drive/MyDrive/Machine_learning/datasets/pneumonia/train\"\n",
    "TEST_PATH = \"/content/drive/MyDrive/Machine_learning/datasets/pneumonia/test\"\n",
    "MODEL_SAVE_FOLDER = \"/content/drive/MyDrive/Machine_learning/datasets/pneumonia/models\"\n",
    "\n",
    "# Used to split train data into train and test data\n",
    "TRAIN_VAL_SPLIT = 0.8\n",
    "random.seed(10)\n"
   ],
   "metadata": {
    "id": "duuqTADpP-8t",
    "pycharm": {
     "name": "#%%\n"
    }
   },
   "execution_count": null,
   "outputs": []
  },
  {
   "cell_type": "code",
   "source": [
    "def get_data(directory_path: str =TRAIN_PATH):\n",
    "  images =  []\n",
    "  labels = []\n",
    "  # called for 'NORMAL' and 'PNEUMONIA'\n",
    "  for label in LABELS:\n",
    "    # get folder name for label\n",
    "    img_folder_path = os.path.join(directory_path, label)\n",
    "    # Iterate over all images in the label folder\n",
    "    for img_path_relative in os.listdir(img_folder_path):\n",
    "      img_path_absolute = os.path.join(img_folder_path, img_path_relative)\n",
    "      img = cv2.imread(img_path_absolute)\n",
    "      # Resize Images\n",
    "      img = cv2.resize(img, IMG_SIZE_TUPLE)\n",
    "      images.append(img)\n",
    "      labels.append(LABELS.index(label))\n",
    "    \n",
    "  return np.array(images), np.array(labels)"
   ],
   "metadata": {
    "id": "YTCjefYxPxON",
    "pycharm": {
     "name": "#%%\n"
    }
   },
   "execution_count": null,
   "outputs": []
  },
  {
   "cell_type": "code",
   "source": [
    "# Get Data in form of np Arrays\n",
    "\n",
    "train_val_data, train_val_labels = get_data()\n",
    "test_data, test_labels = get_data(TEST_PATH)"
   ],
   "metadata": {
    "id": "xQRMCJFQSw5E",
    "pycharm": {
     "name": "#%%\n"
    }
   },
   "execution_count": null,
   "outputs": []
  },
  {
   "cell_type": "code",
   "source": [
    "# Shuffle train/val data and labels in unison\n",
    "permutation = np.random.permutation(len(train_val_data))\n",
    "\n",
    "\n",
    "train_val_data = train_val_data[permutation]\n",
    "train_val_labels = train_val_labels[permutation]"
   ],
   "metadata": {
    "id": "ppGcGpLXd_3B",
    "pycharm": {
     "name": "#%%\n"
    }
   },
   "execution_count": null,
   "outputs": []
  },
  {
   "cell_type": "code",
   "source": [
    "# Split Data into train/val data/labels using set Ratio\n",
    "\n",
    "from sklearn.model_selection import train_test_split\n",
    "train_data, val_data, train_labels, val_labels = train_test_split(train_val_data, train_val_labels, train_size=TRAIN_VAL_SPLIT, random_state=10)\n",
    "\n",
    "del train_val_data\n",
    "del train_val_labels"
   ],
   "metadata": {
    "id": "b87jJ0oITiYS",
    "pycharm": {
     "name": "#%%\n"
    }
   },
   "execution_count": null,
   "outputs": []
  },
  {
   "cell_type": "code",
   "source": [
    "# check shape of data\n",
    "print(train_data.shape)\n",
    "print(val_data.shape)\n",
    "print(train_labels.shape)\n",
    "print(val_labels.shape)"
   ],
   "metadata": {
    "colab": {
     "base_uri": "https://localhost:8080/"
    },
    "id": "eLTq5cTkWzq_",
    "executionInfo": {
     "status": "ok",
     "timestamp": 1658189370276,
     "user_tz": -120,
     "elapsed": 6,
     "user": {
      "displayName": "Tobias Schenk",
      "userId": "07937592775366395306"
     }
    },
    "outputId": "0140bb44-c5e3-4532-8944-e9df6ad955f3",
    "pycharm": {
     "name": "#%%\n"
    }
   },
   "execution_count": null,
   "outputs": [
    {
     "output_type": "stream",
     "name": "stdout",
     "text": [
      "(4172, 150, 150, 3)\n",
      "(1044, 150, 150, 3)\n",
      "(4172,)\n",
      "(1044,)\n"
     ]
    }
   ]
  },
  {
   "cell_type": "code",
   "source": [
    "# Compute Class Weights to check for imbalance\n",
    "from sklearn.utils import class_weight\n",
    "\n",
    "class_weights_train = class_weight.compute_class_weight('balanced', classes=np.unique(train_labels), y=train_labels)\n",
    "normalized_class_weights_train = class_weights_train * 1 / min(class_weights_train)\n",
    "print(class_weights_train)\n",
    "print(normalized_class_weights_train)\n",
    "\n",
    "\n",
    "class_weights_val = class_weight.compute_class_weight('balanced', classes=np.unique(val_labels), y=val_labels)\n",
    "class_weights_test = class_weight.compute_class_weight('balanced', classes=np.unique(test_labels), y=test_labels)\n",
    "\n",
    "print(class_weights_val)\n",
    "print(class_weights_test)"
   ],
   "metadata": {
    "colab": {
     "base_uri": "https://localhost:8080/"
    },
    "id": "Lu6cI7dtWbps",
    "executionInfo": {
     "status": "ok",
     "timestamp": 1658189370277,
     "user_tz": -120,
     "elapsed": 5,
     "user": {
      "displayName": "Tobias Schenk",
      "userId": "07937592775366395306"
     }
    },
    "outputId": "9e6fe2d5-75b4-48d2-c5fd-82f830d3c962",
    "pycharm": {
     "name": "#%%\n"
    }
   },
   "execution_count": null,
   "outputs": [
    {
     "output_type": "stream",
     "name": "stdout",
     "text": [
      "[1.93686165 0.67399031]\n",
      "[2.87372331 1.        ]\n",
      "[1.97727273 0.66923077]\n",
      "[1.33333333 0.8       ]\n"
     ]
    }
   ]
  },
  {
   "cell_type": "code",
   "source": [
    "# Normalize Data because CNN works better with Data from 0 to 1 rather than 0 to 255\n",
    "train_data = train_data / 255\n",
    "val_data = val_data / 255\n",
    "test_data = test_data / 255"
   ],
   "metadata": {
    "id": "c5bxclLYXEXd",
    "pycharm": {
     "name": "#%%\n"
    }
   },
   "execution_count": null,
   "outputs": []
  },
  {
   "cell_type": "code",
   "source": [
    "# Used to create live Data Augmentation with rotation, flips and zoom to combat class imbalance\n",
    "\n",
    "from tensorflow.keras.preprocessing.image import ImageDataGenerator\n",
    "datagen = ImageDataGenerator(\n",
    "    rotation_range=45,\n",
    "    horizontal_flip=True,\n",
    "    vertical_flip=True,\n",
    "    zoom_range=0.1,\n",
    ")"
   ],
   "metadata": {
    "id": "-gAd2zRjXX6f",
    "pycharm": {
     "name": "#%%\n"
    }
   },
   "execution_count": null,
   "outputs": []
  },
  {
   "cell_type": "code",
   "source": [
    "# Network architecture with  4 conv-pool blocks\n",
    "\n",
    "from tensorflow.keras.layers import Conv2D, BatchNormalization, MaxPool2D, Flatten, Dense, Dropout\n",
    "\n",
    "model = tf.keras.models.Sequential()\n",
    "\n",
    "model.add(Conv2D(32, (3, 3), activation=\"relu\", padding=\"same\", kernel_initializer='he_uniform', input_shape=(IMG_SIZE, IMG_SIZE, 3)))\n",
    "model.add(Dropout(0.1))\n",
    "model.add(BatchNormalization())\n",
    "model.add(MaxPool2D((2, 2), strides=2, padding=\"same\"))\n",
    "\n",
    "model.add(Conv2D(64, (3, 3), activation=\"relu\", padding=\"same\", kernel_initializer='he_uniform'))\n",
    "model.add(Dropout(0.1))\n",
    "model.add(BatchNormalization())\n",
    "model.add(MaxPool2D((2, 2), strides=2, padding=\"same\"))\n",
    "\n",
    "model.add(Conv2D(128, (3, 3), activation=\"relu\", padding=\"valid\", kernel_initializer='he_uniform'))\n",
    "model.add(Dropout(0.1))\n",
    "model.add(BatchNormalization())\n",
    "model.add(MaxPool2D((2, 2), strides=2, padding=\"valid\"))\n",
    "\n",
    "model.add(Conv2D(128, (3, 3), activation=\"relu\", padding=\"valid\", kernel_initializer='he_uniform'))\n",
    "model.add(Dropout(0.1))\n",
    "model.add(BatchNormalization())\n",
    "model.add(MaxPool2D((2, 2), strides=2, padding=\"valid\"))\n",
    "\n",
    "model.add(Flatten())\n",
    "model.add(Dense(128, activation=\"relu\"))\n",
    "model.add(Dropout(0.2))\n",
    "model.add(Dense(1, activation=\"sigmoid\"))\n",
    "\n",
    "model.summary()\n",
    "\n",
    "model_name = \"pleumonia_conv_poolingx4\""
   ],
   "metadata": {
    "colab": {
     "base_uri": "https://localhost:8080/"
    },
    "id": "QolDn1GmZTSv",
    "executionInfo": {
     "status": "ok",
     "timestamp": 1658189375098,
     "user_tz": -120,
     "elapsed": 4242,
     "user": {
      "displayName": "Tobias Schenk",
      "userId": "07937592775366395306"
     }
    },
    "outputId": "a276e965-93bc-46d5-ed26-250150b9eb9c",
    "pycharm": {
     "name": "#%%\n"
    }
   },
   "execution_count": null,
   "outputs": [
    {
     "output_type": "stream",
     "name": "stdout",
     "text": [
      "Model: \"sequential\"\n",
      "_________________________________________________________________\n",
      " Layer (type)                Output Shape              Param #   \n",
      "=================================================================\n",
      " conv2d (Conv2D)             (None, 150, 150, 32)      896       \n",
      "                                                                 \n",
      " dropout (Dropout)           (None, 150, 150, 32)      0         \n",
      "                                                                 \n",
      " batch_normalization (BatchN  (None, 150, 150, 32)     128       \n",
      " ormalization)                                                   \n",
      "                                                                 \n",
      " max_pooling2d (MaxPooling2D  (None, 75, 75, 32)       0         \n",
      " )                                                               \n",
      "                                                                 \n",
      " conv2d_1 (Conv2D)           (None, 75, 75, 64)        18496     \n",
      "                                                                 \n",
      " dropout_1 (Dropout)         (None, 75, 75, 64)        0         \n",
      "                                                                 \n",
      " batch_normalization_1 (Batc  (None, 75, 75, 64)       256       \n",
      " hNormalization)                                                 \n",
      "                                                                 \n",
      " max_pooling2d_1 (MaxPooling  (None, 38, 38, 64)       0         \n",
      " 2D)                                                             \n",
      "                                                                 \n",
      " conv2d_2 (Conv2D)           (None, 36, 36, 128)       73856     \n",
      "                                                                 \n",
      " dropout_2 (Dropout)         (None, 36, 36, 128)       0         \n",
      "                                                                 \n",
      " batch_normalization_2 (Batc  (None, 36, 36, 128)      512       \n",
      " hNormalization)                                                 \n",
      "                                                                 \n",
      " max_pooling2d_2 (MaxPooling  (None, 18, 18, 128)      0         \n",
      " 2D)                                                             \n",
      "                                                                 \n",
      " conv2d_3 (Conv2D)           (None, 16, 16, 128)       147584    \n",
      "                                                                 \n",
      " dropout_3 (Dropout)         (None, 16, 16, 128)       0         \n",
      "                                                                 \n",
      " batch_normalization_3 (Batc  (None, 16, 16, 128)      512       \n",
      " hNormalization)                                                 \n",
      "                                                                 \n",
      " max_pooling2d_3 (MaxPooling  (None, 8, 8, 128)        0         \n",
      " 2D)                                                             \n",
      "                                                                 \n",
      " flatten (Flatten)           (None, 8192)              0         \n",
      "                                                                 \n",
      " dense (Dense)               (None, 128)               1048704   \n",
      "                                                                 \n",
      " dropout_4 (Dropout)         (None, 128)               0         \n",
      "                                                                 \n",
      " dense_1 (Dense)             (None, 1)                 129       \n",
      "                                                                 \n",
      "=================================================================\n",
      "Total params: 1,291,073\n",
      "Trainable params: 1,290,369\n",
      "Non-trainable params: 704\n",
      "_________________________________________________________________\n"
     ]
    }
   ]
  },
  {
   "cell_type": "code",
   "source": [
    "# Model Checkpoint to save Models with best loss/accuracy on validation data\n",
    "acc_checkpoint = tf.keras.callbacks.ModelCheckpoint(os.path.join(MODEL_SAVE_FOLDER, model_name, 'acc'), monitor=\"val_accuracy\", save_best_only=True)\n",
    "loss_checkpoint = tf.keras.callbacks.ModelCheckpoint(os.path.join(MODEL_SAVE_FOLDER, model_name, 'loss'), monitor=\"val_loss\", save_best_only=True)\n",
    "\n",
    "\n",
    "model.compile(\n",
    "    tf.keras.optimizers.Adam(learning_rate=0.0002, beta_1=0.9, beta_2=0.999, epsilon=1e-07),\n",
    "    loss='binary_crossentropy',\n",
    "    metrics=['accuracy']\n",
    ")\n",
    "\n",
    "class_weights = {0: class_weights_train[0], 1: class_weights_train[1]}\n",
    "\n",
    "history = model.fit(\n",
    "    datagen.flow(train_data, train_labels, batch_size=BATCH_SIZE),\n",
    "    epochs=10,\n",
    "    class_weight=class_weights,\n",
    "    validation_data=datagen.flow(val_data, val_labels, batch_size=BATCH_SIZE),\n",
    "    callbacks=[acc_checkpoint, loss_checkpoint]\n",
    ")"
   ],
   "metadata": {
    "colab": {
     "base_uri": "https://localhost:8080/"
    },
    "id": "cyDTQ29bcmh4",
    "executionInfo": {
     "status": "ok",
     "timestamp": 1658189635396,
     "user_tz": -120,
     "elapsed": 260302,
     "user": {
      "displayName": "Tobias Schenk",
      "userId": "07937592775366395306"
     }
    },
    "outputId": "a7f1870e-6742-4515-d228-780690ab3845",
    "pycharm": {
     "name": "#%%\n"
    }
   },
   "execution_count": null,
   "outputs": [
    {
     "output_type": "stream",
     "name": "stdout",
     "text": [
      "Epoch 1/10\n",
      "131/131 [==============================] - ETA: 0s - loss: 0.3593 - accuracy: 0.8588INFO:tensorflow:Assets written to: /content/drive/MyDrive/Machine_learning/datasets/pneumonia/models/pleumonia_conv_poolingx4/acc/assets\n",
      "INFO:tensorflow:Assets written to: /content/drive/MyDrive/Machine_learning/datasets/pneumonia/models/pleumonia_conv_poolingx4/loss/assets\n",
      "131/131 [==============================] - 39s 212ms/step - loss: 0.3593 - accuracy: 0.8588 - val_loss: 2.2935 - val_accuracy: 0.7471\n",
      "Epoch 2/10\n",
      "131/131 [==============================] - 22s 167ms/step - loss: 0.2073 - accuracy: 0.9123 - val_loss: 2.4125 - val_accuracy: 0.7471\n",
      "Epoch 3/10\n",
      "131/131 [==============================] - ETA: 0s - loss: 0.1944 - accuracy: 0.9192INFO:tensorflow:Assets written to: /content/drive/MyDrive/Machine_learning/datasets/pneumonia/models/pleumonia_conv_poolingx4/loss/assets\n",
      "131/131 [==============================] - 24s 182ms/step - loss: 0.1944 - accuracy: 0.9192 - val_loss: 1.4558 - val_accuracy: 0.7471\n",
      "Epoch 4/10\n",
      "131/131 [==============================] - ETA: 0s - loss: 0.1859 - accuracy: 0.9250INFO:tensorflow:Assets written to: /content/drive/MyDrive/Machine_learning/datasets/pneumonia/models/pleumonia_conv_poolingx4/acc/assets\n",
      "INFO:tensorflow:Assets written to: /content/drive/MyDrive/Machine_learning/datasets/pneumonia/models/pleumonia_conv_poolingx4/loss/assets\n",
      "131/131 [==============================] - 26s 198ms/step - loss: 0.1859 - accuracy: 0.9250 - val_loss: 1.0194 - val_accuracy: 0.7749\n",
      "Epoch 5/10\n",
      "131/131 [==============================] - ETA: 0s - loss: 0.1636 - accuracy: 0.9379INFO:tensorflow:Assets written to: /content/drive/MyDrive/Machine_learning/datasets/pneumonia/models/pleumonia_conv_poolingx4/acc/assets\n",
      "INFO:tensorflow:Assets written to: /content/drive/MyDrive/Machine_learning/datasets/pneumonia/models/pleumonia_conv_poolingx4/loss/assets\n",
      "131/131 [==============================] - 26s 198ms/step - loss: 0.1636 - accuracy: 0.9379 - val_loss: 0.2028 - val_accuracy: 0.9215\n",
      "Epoch 6/10\n",
      "131/131 [==============================] - ETA: 0s - loss: 0.1546 - accuracy: 0.9403INFO:tensorflow:Assets written to: /content/drive/MyDrive/Machine_learning/datasets/pneumonia/models/pleumonia_conv_poolingx4/acc/assets\n",
      "INFO:tensorflow:Assets written to: /content/drive/MyDrive/Machine_learning/datasets/pneumonia/models/pleumonia_conv_poolingx4/loss/assets\n",
      "131/131 [==============================] - 27s 206ms/step - loss: 0.1546 - accuracy: 0.9403 - val_loss: 0.1884 - val_accuracy: 0.9416\n",
      "Epoch 7/10\n",
      "131/131 [==============================] - ETA: 0s - loss: 0.1450 - accuracy: 0.9449INFO:tensorflow:Assets written to: /content/drive/MyDrive/Machine_learning/datasets/pneumonia/models/pleumonia_conv_poolingx4/loss/assets\n",
      "131/131 [==============================] - 24s 185ms/step - loss: 0.1450 - accuracy: 0.9449 - val_loss: 0.1841 - val_accuracy: 0.9387\n",
      "Epoch 8/10\n",
      "130/131 [============================>.] - ETA: 0s - loss: 0.1384 - accuracy: 0.9435INFO:tensorflow:Assets written to: /content/drive/MyDrive/Machine_learning/datasets/pneumonia/models/pleumonia_conv_poolingx4/acc/assets\n",
      "INFO:tensorflow:Assets written to: /content/drive/MyDrive/Machine_learning/datasets/pneumonia/models/pleumonia_conv_poolingx4/loss/assets\n",
      "131/131 [==============================] - 26s 201ms/step - loss: 0.1382 - accuracy: 0.9437 - val_loss: 0.1233 - val_accuracy: 0.9559\n",
      "Epoch 9/10\n",
      "131/131 [==============================] - 23s 175ms/step - loss: 0.1275 - accuracy: 0.9489 - val_loss: 0.4512 - val_accuracy: 0.8755\n",
      "Epoch 10/10\n",
      "131/131 [==============================] - 22s 168ms/step - loss: 0.1276 - accuracy: 0.9509 - val_loss: 0.1818 - val_accuracy: 0.9397\n"
     ]
    }
   ]
  },
  {
   "cell_type": "markdown",
   "source": [
    "Compare end model with highest acc and best loss saved models and choose best one."
   ],
   "metadata": {
    "id": "GFmoIhtveuEb",
    "pycharm": {
     "name": "#%% md\n"
    }
   }
  },
  {
   "cell_type": "code",
   "source": [
    "# check predictions from last epoch\n",
    "\n",
    "print(\"Loss of the model is - \" , model.evaluate(test_data, test_labels)[0])\n",
    "print(\"Accuracy of the model is - \" , model.evaluate(test_data, test_labels)[1]*100 , \"%\")"
   ],
   "metadata": {
    "colab": {
     "base_uri": "https://localhost:8080/"
    },
    "id": "Pg_VURNCdxYV",
    "executionInfo": {
     "status": "ok",
     "timestamp": 1658189648812,
     "user_tz": -120,
     "elapsed": 932,
     "user": {
      "displayName": "Tobias Schenk",
      "userId": "07937592775366395306"
     }
    },
    "outputId": "b4761817-4e2b-489f-f633-cba7a7315ed7",
    "pycharm": {
     "name": "#%%\n"
    }
   },
   "execution_count": null,
   "outputs": [
    {
     "output_type": "stream",
     "name": "stdout",
     "text": [
      "20/20 [==============================] - 0s 8ms/step - loss: 0.3248 - accuracy: 0.8958\n",
      "Loss of the model is -  0.3248290419578552\n",
      "20/20 [==============================] - 0s 8ms/step - loss: 0.3248 - accuracy: 0.8958\n",
      "Accuracy of the model is -  89.58333134651184 %\n"
     ]
    }
   ]
  },
  {
   "cell_type": "code",
   "source": [
    "# Load model with highest accuracy on validation Data\n",
    "loaded_model_acc = tf.keras.models.load_model(os.path.join(MODEL_SAVE_FOLDER, model_name, 'acc'))\n",
    "\n",
    "# Check loss and acc on test data\n",
    "print(\"Loss of the model is - \" , loaded_model_acc.evaluate(test_data, test_labels)[0])\n",
    "print(\"Accuracy of the model is - \" , loaded_model_acc.evaluate(test_data, test_labels)[1]*100 , \"%\")"
   ],
   "metadata": {
    "colab": {
     "base_uri": "https://localhost:8080/"
    },
    "id": "MEUKRLN1kUu9",
    "executionInfo": {
     "status": "ok",
     "timestamp": 1658189650592,
     "user_tz": -120,
     "elapsed": 1785,
     "user": {
      "displayName": "Tobias Schenk",
      "userId": "07937592775366395306"
     }
    },
    "outputId": "58c07bd6-3a3a-493f-f0f8-3cd23d9f6454",
    "pycharm": {
     "name": "#%%\n"
    }
   },
   "execution_count": null,
   "outputs": [
    {
     "output_type": "stream",
     "name": "stdout",
     "text": [
      "20/20 [==============================] - 0s 8ms/step - loss: 0.3134 - accuracy: 0.8878\n",
      "Loss of the model is -  0.31336721777915955\n",
      "20/20 [==============================] - 0s 9ms/step - loss: 0.3134 - accuracy: 0.8878\n",
      "Accuracy of the model is -  88.78205418586731 %\n"
     ]
    }
   ]
  },
  {
   "cell_type": "code",
   "source": [
    "# Load model with best loss on validation Data\n",
    "loaded_model_loss = tf.keras.models.load_model(os.path.join(MODEL_SAVE_FOLDER, model_name, 'loss'))\n",
    "\n",
    "# Check loss ann acc on test data\n",
    "print(\"Loss of the model is - \" , loaded_model_loss.evaluate(test_data, test_labels)[0])\n",
    "print(\"Accuracy of the model is - \" , loaded_model_loss.evaluate(test_data, test_labels)[1]*100 , \"%\")"
   ],
   "metadata": {
    "colab": {
     "base_uri": "https://localhost:8080/"
    },
    "id": "dtfdyJCUfdok",
    "executionInfo": {
     "status": "ok",
     "timestamp": 1658189652758,
     "user_tz": -120,
     "elapsed": 2173,
     "user": {
      "displayName": "Tobias Schenk",
      "userId": "07937592775366395306"
     }
    },
    "outputId": "01386680-d77e-4745-c38a-338d5bba185e",
    "pycharm": {
     "name": "#%%\n"
    }
   },
   "execution_count": null,
   "outputs": [
    {
     "output_type": "stream",
     "name": "stdout",
     "text": [
      "20/20 [==============================] - 0s 8ms/step - loss: 0.3134 - accuracy: 0.8878\n",
      "Loss of the model is -  0.31336721777915955\n",
      "20/20 [==============================] - 0s 8ms/step - loss: 0.3134 - accuracy: 0.8878\n",
      "Accuracy of the model is -  88.78205418586731 %\n"
     ]
    }
   ]
  },
  {
   "cell_type": "code",
   "source": [
    "from sklearn.metrics import accuracy_score, confusion_matrix\n",
    "from mlxtend.plotting import plot_confusion_matrix\n",
    "\n",
    "predictions = model.predict(test_data)\n",
    "\n",
    "# Get Accuracy and Confusion Matrix using threshold 0.5\n",
    "model_accuracy = accuracy_score(test_labels, np.round(predictions))\n",
    "confusion_matrix = confusion_matrix(test_labels, np.round(predictions))\n",
    "\n",
    "true_negatives, false_positives, false_negatives, true_positives = confusion_matrix.ravel()\n",
    "\n",
    "print(\"Confusion Matrix: \")\n",
    "plt.figure()\n",
    "plot_confusion_matrix(confusion_matrix, figsize=(10, 10), cmap=plt.cm.Blues)\n",
    "plt.xticks(range(2), ['Normal', 'Pneumonia'])\n",
    "plt.yticks(range(2), ['Normal', 'Pneumonia'])\n",
    "plt.show()\n",
    "\n",
    "print(\"Metrics: \")\n",
    "precision = true_positives/(true_positives+false_positives)\n",
    "recall = true_positives/(true_positives+false_negatives)\n",
    "f1_score = 2*precision*recall/(precision+recall)\n",
    "\n",
    "print(\"Accuracy: {}\".format(model_accuracy))\n",
    "print(\"Precision: {}\".format(precision))\n",
    "print(\"Recall: {}\".format(recall))\n",
    "print(\"F1-Score: {}\".format(f1_score))"
   ],
   "metadata": {
    "colab": {
     "base_uri": "https://localhost:8080/",
     "height": 728
    },
    "id": "VKDL_FL1gCkm",
    "executionInfo": {
     "status": "ok",
     "timestamp": 1658189676537,
     "user_tz": -120,
     "elapsed": 707,
     "user": {
      "displayName": "Tobias Schenk",
      "userId": "07937592775366395306"
     }
    },
    "outputId": "df478722-4ea9-4f4d-ca8b-d9874239a181",
    "pycharm": {
     "name": "#%%\n"
    }
   },
   "execution_count": null,
   "outputs": [
    {
     "output_type": "stream",
     "name": "stdout",
     "text": [
      "Confusion Matrix: \n"
     ]
    },
    {
     "output_type": "display_data",
     "data": {
      "text/plain": [
       "<Figure size 432x288 with 0 Axes>"
      ]
     },
     "metadata": {}
    },
    {
     "output_type": "display_data",
     "data": {
      "text/plain": [
       "<Figure size 720x720 with 1 Axes>"
      ],
      "image/png": "[encoded data removed]"
     },
     "metadata": {
      "needs_background": "light"
     }
    },
    {
     "output_type": "stream",
     "name": "stdout",
     "text": [
      "Metrics: \n",
      "Accuracy: 0.8958333333333334\n",
      "Precision: 0.8735632183908046\n",
      "Recall: 0.9743589743589743\n",
      "F1-Score: 0.9212121212121213\n"
     ]
    }
   ]
  },
  {
   "cell_type": "code",
   "source": [
    "# Save Model in drive to use it in API\n",
    "model.save(os.path.join(MODEL_SAVE_FOLDER, 'final_model.h5'))"
   ],
   "metadata": {
    "id": "WcXDFI5kiSSK",
    "pycharm": {
     "name": "#%%\n"
    }
   },
   "execution_count": null,
   "outputs": []
  },
  {
   "cell_type": "code",
   "source": [],
   "metadata": {
    "id": "UAXNlVLRxghO",
    "pycharm": {
     "name": "#%%\n"
    }
   },
   "execution_count": null,
   "outputs": []
  }
 ]
}